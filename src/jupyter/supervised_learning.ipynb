{
 "cells": [
  {
   "cell_type": "code",
   "execution_count": 1,
   "metadata": {},
   "outputs": [],
   "source": [
    "from audio_processing import *\n",
    "\n",
    "import tensorflow as tf"
   ]
  },
  {
   "cell_type": "code",
   "execution_count": 2,
   "metadata": {},
   "outputs": [],
   "source": [
    "data, labels = load_keystroke_data()"
   ]
  },
  {
   "cell_type": "code",
   "execution_count": 3,
   "metadata": {},
   "outputs": [
    {
     "data": {
      "text/plain": [
       "array([[1.18088550e-103, 1.12535162e-007, 1.00000000e+000, ...,\n",
       "        5.00000000e-001, 5.00000000e-001, 5.00000000e-001],\n",
       "       [1.00000000e+000, 1.00000000e+000, 9.81940205e-110, ...,\n",
       "        9.99664650e-001, 9.93307149e-001, 9.99088949e-001],\n",
       "       [1.00000000e+000, 1.00000000e+000, 5.90009054e-029, ...,\n",
       "        9.52574127e-001, 2.47262316e-003, 2.47262316e-003],\n",
       "       ...,\n",
       "       [2.91679942e-182, 4.35961000e-028, 1.00000000e+000, ...,\n",
       "        9.99876605e-001, 9.82013790e-001, 5.00000000e-001],\n",
       "       [0.00000000e+000, 0.00000000e+000, 8.13631891e-192, ...,\n",
       "        8.80797078e-001, 9.52574127e-001, 9.99088949e-001],\n",
       "       [1.25749977e-166, 3.70695639e-120, 1.00000000e+000, ...,\n",
       "        5.00000000e-001, 9.82013790e-001, 1.79862100e-002]])"
      ]
     },
     "execution_count": 3,
     "metadata": {},
     "output_type": "execute_result"
    }
   ],
   "source": [
    "scaled_data = scale_keystroke_data(data)\n",
    "scaled_data"
   ]
  },
  {
   "cell_type": "code",
   "execution_count": 4,
   "metadata": {},
   "outputs": [],
   "source": [
    "# 90% training, 10% testing\n",
    "training_count = int(len(scaled_data) * 0.9)\n",
    "x_train, x_test = scaled_data[:training_count], scaled_data[training_count:]\n",
    "y_train, y_test = labels[:training_count], labels[training_count:]"
   ]
  },
  {
   "cell_type": "code",
   "execution_count": 10,
   "metadata": {},
   "outputs": [],
   "source": [
    "model = tf.keras.models.Sequential([\n",
    "    tf.keras.layers.Dense(128, activation='relu'),\n",
    "    tf.keras.layers.Dropout(0.2),\n",
    "    tf.keras.layers.Dense(128, activation='relu'),\n",
    "    tf.keras.layers.Dense(29, activation='softmax'),\n",
    "])"
   ]
  },
  {
   "cell_type": "code",
   "execution_count": 11,
   "metadata": {},
   "outputs": [],
   "source": [
    "model.compile(optimizer='adam',\n",
    "              loss='sparse_categorical_crossentropy',\n",
    "              metrics=['accuracy'])"
   ]
  },
  {
   "cell_type": "code",
   "execution_count": 12,
   "metadata": {},
   "outputs": [
    {
     "name": "stdout",
     "output_type": "stream",
     "text": [
      "Epoch 1/15\n",
      "3150/3150 [==============================] - 1s 372us/sample - loss: 3.4537 - accuracy: 0.0400\n",
      "Epoch 2/15\n",
      "3150/3150 [==============================] - 1s 333us/sample - loss: 3.3667 - accuracy: 0.0508\n",
      "Epoch 3/15\n",
      "3150/3150 [==============================] - 1s 313us/sample - loss: 3.3620 - accuracy: 0.0498\n",
      "Epoch 4/15\n",
      "3150/3150 [==============================] - 1s 334us/sample - loss: 3.3586 - accuracy: 0.0498\n",
      "Epoch 5/15\n",
      "3150/3150 [==============================] - 1s 312us/sample - loss: 3.3600 - accuracy: 0.0498\n",
      "Epoch 6/15\n",
      "3150/3150 [==============================] - 1s 313us/sample - loss: 3.3577 - accuracy: 0.0505\n",
      "Epoch 7/15\n",
      "3150/3150 [==============================] - 1s 318us/sample - loss: 3.3572 - accuracy: 0.0505\n",
      "Epoch 8/15\n",
      "3150/3150 [==============================] - 1s 320us/sample - loss: 3.3557 - accuracy: 0.0508\n",
      "Epoch 9/15\n",
      "3150/3150 [==============================] - 1s 335us/sample - loss: 3.3555 - accuracy: 0.0508\n",
      "Epoch 10/15\n",
      "3150/3150 [==============================] - 1s 353us/sample - loss: 3.3555 - accuracy: 0.0508\n",
      "Epoch 11/15\n",
      "3150/3150 [==============================] - 1s 333us/sample - loss: 3.3554 - accuracy: 0.0508\n",
      "Epoch 12/15\n",
      "3150/3150 [==============================] - 1s 337us/sample - loss: 3.3553 - accuracy: 0.0508\n",
      "Epoch 13/15\n",
      "3150/3150 [==============================] - 1s 341us/sample - loss: 3.3553 - accuracy: 0.0508\n",
      "Epoch 14/15\n",
      "3150/3150 [==============================] - 1s 375us/sample - loss: 3.3553 - accuracy: 0.0508\n",
      "Epoch 15/15\n",
      "3150/3150 [==============================] - 1s 340us/sample - loss: 3.3552 - accuracy: 0.0508\n",
      "350/350 [==============================] - 0s 323us/sample - loss: 3.3770 - accuracy: 0.0343\n"
     ]
    },
    {
     "data": {
      "text/plain": [
       "[3.3769574914659772, 0.034285713]"
      ]
     },
     "execution_count": 12,
     "metadata": {},
     "output_type": "execute_result"
    }
   ],
   "source": [
    "model.fit(x_train, y_train, epochs=15)\n",
    "model.evaluate(x_test, y_test)"
   ]
  },
  {
   "cell_type": "code",
   "execution_count": null,
   "metadata": {},
   "outputs": [],
   "source": []
  }
 ],
 "metadata": {
  "kernelspec": {
   "display_name": "Python 3",
   "language": "python",
   "name": "python3"
  },
  "language_info": {
   "codemirror_mode": {
    "name": "ipython",
    "version": 3
   },
   "file_extension": ".py",
   "mimetype": "text/x-python",
   "name": "python",
   "nbconvert_exporter": "python",
   "pygments_lexer": "ipython3",
   "version": "3.6.8"
  }
 },
 "nbformat": 4,
 "nbformat_minor": 2
}
