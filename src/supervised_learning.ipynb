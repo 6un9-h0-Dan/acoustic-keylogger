{
 "cells": [
  {
   "cell_type": "code",
   "execution_count": 2,
   "metadata": {},
   "outputs": [],
   "source": [
    "from scripts_pkg.audio_processing import *\n",
    "\n",
    "import tensorflow as tf"
   ]
  },
  {
   "cell_type": "code",
   "execution_count": 31,
   "metadata": {},
   "outputs": [
    {
     "data": {
      "text/plain": [
       "array([[  319,     1,  -309, ...,    -7,    -6,    -3],\n",
       "       [ -232,   235,   858, ...,    -6,    -4,     1],\n",
       "       [ -288,  -184,   -73, ...,    -8,    -9,    -7],\n",
       "       ...,\n",
       "       [ -971,  -102,   762, ...,   -12,   -10,    -1],\n",
       "       [ -281,  -254,  -143, ...,     2,    -2,    -2],\n",
       "       [ 1067,   466, -1349, ...,    15,     8,    -4]])"
      ]
     },
     "execution_count": 31,
     "metadata": {},
     "output_type": "execute_result"
    }
   ],
   "source": [
    "data, labels = load_keystroke_data()\n",
    "data"
   ]
  },
  {
   "cell_type": "code",
   "execution_count": 36,
   "metadata": {},
   "outputs": [
    {
     "data": {
      "text/plain": [
       "array([[0.47384949, 0.45569259, 0.43799246, ..., 0.45523581, 0.45529291,\n",
       "        0.4554642 ],\n",
       "       [0.41767145, 0.43543418, 0.4591305 , ..., 0.42626754, 0.42634362,\n",
       "        0.42653379],\n",
       "       [0.39592253, 0.40652396, 0.41783894, ..., 0.42446483, 0.4243629 ,\n",
       "        0.42456677],\n",
       "       ...,\n",
       "       [0.49726021, 0.51155979, 0.5257771 , ..., 0.51304076, 0.51307367,\n",
       "        0.51322177],\n",
       "       [0.39191961, 0.39745693, 0.42022149, ..., 0.44995898, 0.44913864,\n",
       "        0.44913864],\n",
       "       [0.59306971, 0.56609363, 0.48462678, ..., 0.54585035, 0.54553616,\n",
       "        0.54499753]])"
      ]
     },
     "execution_count": 36,
     "metadata": {},
     "output_type": "execute_result"
    }
   ],
   "source": [
    "scaled_data = scale_keystroke_data(data)\n",
    "scaled_data"
   ]
  },
  {
   "cell_type": "code",
   "execution_count": 37,
   "metadata": {},
   "outputs": [],
   "source": [
    "# 90% training, 10% testing\n",
    "training_count = int(len(scaled_data) * 0.9)\n",
    "x_train, x_test = scaled_data[:training_count], scaled_data[training_count:]\n",
    "y_train, y_test = labels[:training_count], labels[training_count:]"
   ]
  },
  {
   "cell_type": "code",
   "execution_count": 38,
   "metadata": {},
   "outputs": [],
   "source": [
    "model = tf.keras.models.Sequential([\n",
    "    tf.keras.layers.Dense(128, activation='relu'),\n",
    "    tf.keras.layers.Dropout(0.5),\n",
    "    tf.keras.layers.Dense(128, activation='relu'),\n",
    "    tf.keras.layers.Dense(29, activation='softmax'),\n",
    "])\n",
    "model.compile(optimizer='adam',\n",
    "              loss='sparse_categorical_crossentropy',\n",
    "              metrics=['accuracy'])"
   ]
  },
  {
   "cell_type": "code",
   "execution_count": 39,
   "metadata": {},
   "outputs": [
    {
     "name": "stdout",
     "output_type": "stream",
     "text": [
      "Epoch 1/5\n",
      "3150/3150 [==============================] - 1s 368us/sample - loss: 3.5032 - accuracy: 0.0479\n",
      "Epoch 2/5\n",
      "3150/3150 [==============================] - 1s 295us/sample - loss: 3.3640 - accuracy: 0.0508\n",
      "Epoch 3/5\n",
      "3150/3150 [==============================] - 1s 310us/sample - loss: 3.3621 - accuracy: 0.0508\n",
      "Epoch 4/5\n",
      "3150/3150 [==============================] - 1s 311us/sample - loss: 3.3606 - accuracy: 0.0508\n",
      "Epoch 5/5\n",
      "3150/3150 [==============================] - 1s 299us/sample - loss: 3.3594 - accuracy: 0.0508\n",
      "350/350 [==============================] - 0s 311us/sample - loss: 3.3728 - accuracy: 0.0286\n"
     ]
    },
    {
     "data": {
      "text/plain": [
       "[3.3727880477905274, 0.028571429]"
      ]
     },
     "execution_count": 39,
     "metadata": {},
     "output_type": "execute_result"
    }
   ],
   "source": [
    "model.fit(x_train, y_train, epochs=5)\n",
    "model.evaluate(x_test, y_test)"
   ]
  },
  {
   "cell_type": "code",
   "execution_count": null,
   "metadata": {},
   "outputs": [],
   "source": []
  }
 ],
 "metadata": {
  "kernelspec": {
   "display_name": "Python 3",
   "language": "python",
   "name": "python3"
  },
  "language_info": {
   "codemirror_mode": {
    "name": "ipython",
    "version": 3
   },
   "file_extension": ".py",
   "mimetype": "text/x-python",
   "name": "python",
   "nbconvert_exporter": "python",
   "pygments_lexer": "ipython3",
   "version": "3.6.8"
  }
 },
 "nbformat": 4,
 "nbformat_minor": 2
}
